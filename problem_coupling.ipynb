{
 "cells": [
  {
   "cell_type": "markdown",
   "metadata": {},
   "source": [
    "Problem Coupling"
   ]
  },
  {
   "cell_type": "markdown",
   "metadata": {},
   "source": [
    "1. When L is 0.2, it can be showned that the temp_y is always less than 277.5 and beta_y is always zero. So fractional coverage will decrease until it becomes zero."
   ]
  },
  {
   "cell_type": "markdown",
   "metadata": {},
   "source": [
    "$$ \\alpha_p = x\\alpha_g + (1-x)\\alpha_y $$\n",
    "This means that:\n",
    "$$ \\alpha_p - \\alpha_y = x(\\alpha_g - \\alpha_y) $$\n",
    "$$ 1 - \\alpha_p = x(\\alpha_y - \\alpha_g) + 1 - \\alpha_y $$\n",
    "Besides,\n",
    "$$ \\eta = \\frac{RS_0}{4\\sigma} $$\n",
    "$$ T^4_e = \\frac{LS_0}{4\\sigma} (1 - \\alpha_p) $$\n",
    "So\n",
    "$$ temp_y = [\\eta(\\alpha_p - \\alpha_y) + T^4_e]^{0.25} $$\n",
    "$$  = (\\frac{S_0}{4\\sigma})^{0.25}[Rx(\\alpha_g -\\alpha_y) + Lx(\\alpha_y - \\alpha_g) + (1 - \\alpha_y)L ]^{0.25} $$\n",
    "$$  = (\\frac{S_0}{4\\sigma})^{0.25}[(\\alpha_y - \\alpha_g)(L - R)x + (1-\\alpha_y)L]^{0.25} $$\n",
    "$$ ≤(\\frac{3668}{4*5.67e-8})^{0.25}[(0.6 - 0.3)(0.2 - 0.12) * 1 + (1 - 0.6)*0.2]^{0.25} $$\n",
    "$$ =202.5 < 277.5 $$"
   ]
  },
  {
   "cell_type": "markdown",
   "metadata": {},
   "source": [
    "Therefore, beta_y will always be zero and the fractional coverage will decrease to zero state."
   ]
  },
  {
   "cell_type": "markdown",
   "metadata": {},
   "source": [
    "2.When L = 0.8, the steady state will not be zero."
   ]
  },
  {
   "cell_type": "code",
   "execution_count": 1,
   "metadata": {
    "collapsed": true
   },
   "outputs": [],
   "source": [
    "import numlabs.lab5.lab5_funs\n",
    "from numlabs.lab5.lab5_funs import Integrator\n",
    "from importlib import reload\n",
    "reload(numlabs.lab5.lab5_funs)\n",
    "from collections import namedtuple\n",
    "import numpy as np\n",
    "import matplotlib.pyplot as plt\n",
    "\n",
    "class IntegCoupling(Integrator):\n",
    "    \"\"\"rewrite the init and derivs5 methods to\n",
    "       work with a single (grey) daisy\n",
    "    \"\"\"\n",
    "\n",
    "    def set_yinit(self):\n",
    "        #\n",
    "        # read in 'albedo_grey chi S0 L  R albedo_ground'\n",
    "        #\n",
    "        uservars = namedtuple('uservars', self.config['uservars'].keys())\n",
    "        self.uservars = uservars(**self.config['uservars'])\n",
    "        #\n",
    "        # read in 'greyconc'\n",
    "        #\n",
    "        initvars = namedtuple('initvars', self.config['initvars'].keys())\n",
    "        self.initvars = initvars(**self.config['initvars'])\n",
    "        self.yinit = np.array([self.initvars.greyconc])\n",
    "        self.nvars = len(self.yinit)\n",
    "        return None\n",
    "\n",
    "    def __init__(self, coeffFileName):\n",
    "        super().__init__(coeffFileName)\n",
    "        self.set_yinit()\n",
    "\n",
    "    def derivs5(self, y, t):\n",
    "        \"\"\"\n",
    "           Make the growth rate depend on the ground temperature\n",
    "           using the quadratic function of temperature\n",
    "\n",
    "           y[0]=fraction grey daisies\n",
    "           t = time\n",
    "           returns f[0] = dy/dt\n",
    "        \"\"\"\n",
    "        sigma = 5.67e-8  # Stefan Boltzman constant W/m^2/K^4\n",
    "        user = self.uservars\n",
    "        x = 1.0 - y[0]\n",
    "        albedo_p = x * user.albedo_ground + y[0] * user.albedo_grey\n",
    "        Te_4 = user.S0 / 4.0 * user.L * (1.0 - albedo_p) / sigma\n",
    "        eta = user.R * user.S0 / (4.0 * sigma)\n",
    "        temp_y = (eta * (albedo_p - user.albedo_grey) + Te_4)**0.25\n",
    "        if(temp_y >= 277.5 and temp_y <= 312.5):\n",
    "            beta_y = 1.0 - 0.003265 * (295.0 - temp_y)**2.0\n",
    "        else:\n",
    "            beta_y = 0.0\n",
    "\n",
    "        # create a 1 x 1 element vector to hold the derivative\n",
    "        f = np.empty([self.nvars], np.float64)\n",
    "        f[0] = y[0] * (beta_y * x - user.chi)\n",
    "        return f\n"
   ]
  },
  {
   "cell_type": "code",
   "execution_count": 3,
   "metadata": {
    "collapsed": false
   },
   "outputs": [
    {
     "data": {
      "image/png": "[encoded data removed]",
      "text/plain": [
       "<matplotlib.figure.Figure at 0x5915208>"
      ]
     },
     "metadata": {},
     "output_type": "display_data"
    }
   ],
   "source": [
    "%matplotlib inline\n",
    "import numpy as np\n",
    "import matplotlib.pyplot as plt\n",
    "\n",
    "theSolver = IntegCoupling('coupling.yaml')\n",
    "timeVals, yVals, errorList = theSolver.timeloop5fixed()\n",
    "\n",
    "thefig, theAx = plt.subplots(1, 1)\n",
    "theLines = theAx.plot(timeVals, yVals)\n",
    "theAx.set_title('lab 5: interactive 2 Coupling with grey daisies, L = 0.8')\n",
    "theAx.set_xlabel('time')\n",
    "theAx.set_ylabel('fractional coverage')\n",
    "out=theAx.legend(theLines, ('grey daisies',), loc='best')\n"
   ]
  },
  {
   "cell_type": "markdown",
   "metadata": {},
   "source": [
    "3.Compute Te for 11 different L, from 0.4-1.2, equally spaced and plot L vs Te."
   ]
  },
  {
   "cell_type": "code",
   "execution_count": 15,
   "metadata": {
    "collapsed": true
   },
   "outputs": [],
   "source": [
    "import numlabs.lab5.lab5_funs\n",
    "from numlabs.lab5.lab5_funs import Integrator\n",
    "from importlib import reload\n",
    "reload(numlabs.lab5.lab5_funs)\n",
    "from collections import namedtuple\n",
    "import numpy as np\n",
    "import matplotlib.pyplot as plt\n",
    "\n",
    "class IntegCoupling(Integrator):\n",
    "    \"\"\"rewrite the init and derivs5 methods to\n",
    "       work with a single (grey) daisy\n",
    "    \"\"\"\n",
    "\n",
    "    def set_yinit(self, newL):\n",
    "        #\n",
    "        # read in 'albedo_grey chi S0 L  R albedo_ground'\n",
    "        #\n",
    "        self.config['uservars']['L'] = newL\n",
    "        uservars = namedtuple('uservars', self.config['uservars'].keys())\n",
    "        self.uservars = uservars(**self.config['uservars'])\n",
    "        #\n",
    "        # read in 'greyconc'\n",
    "        #\n",
    "        initvars = namedtuple('initvars', self.config['initvars'].keys())\n",
    "        self.initvars = initvars(**self.config['initvars'])\n",
    "        self.yinit = np.array([self.initvars.greyconc])\n",
    "        self.nvars = len(self.yinit)\n",
    "        return None\n",
    "\n",
    "    def __init__(self, coeffFileName,newL):\n",
    "        super().__init__(coeffFileName)\n",
    "        self.set_yinit(newL)\n",
    "\n",
    "    def derivs5(self, y, t):\n",
    "        \"\"\"\n",
    "           Make the growth rate depend on the ground temperature\n",
    "           using the quadratic function of temperature\n",
    "\n",
    "           y[0]=fraction grey daisies\n",
    "           t = time\n",
    "           returns f[0] = dy/dt\n",
    "        \"\"\"\n",
    "        sigma = 5.67e-8  # Stefan Boltzman constant W/m^2/K^4\n",
    "        user = self.uservars\n",
    "        x = 1.0 - y[0]\n",
    "        albedo_p = x * user.albedo_ground + y[0] * user.albedo_grey\n",
    "        Te_4 = user.S0 / 4.0 * user.L * (1.0 - albedo_p) / sigma\n",
    "        eta = user.R * user.S0 / (4.0 * sigma)\n",
    "        temp_y = (eta * (albedo_p - user.albedo_grey) + Te_4)**0.25\n",
    "        if(temp_y >= 277.5 and temp_y <= 312.5):\n",
    "            beta_y = 1.0 - 0.003265 * (295.0 - temp_y)**2.0\n",
    "        else:\n",
    "            beta_y = 0.0\n",
    "\n",
    "        # create a 1 x 1 element vector to hold the derivative\n",
    "        f = np.empty([self.nvars], np.float64)\n",
    "        f[0] = y[0] * (beta_y * x - user.chi)\n",
    "        return f\n",
    "\n"
   ]
  },
  {
   "cell_type": "code",
   "execution_count": 16,
   "metadata": {
    "collapsed": false
   },
   "outputs": [
    {
     "data": {
      "text/plain": [
       "<matplotlib.text.Text at 0x598bdd8>"
      ]
     },
     "execution_count": 16,
     "metadata": {},
     "output_type": "execute_result"
    },
    {
     "data": {
      "image/png": "[encoded data removed]",
      "text/plain": [
       "<matplotlib.figure.Figure at 0x5c01048>"
      ]
     },
     "metadata": {},
     "output_type": "display_data"
    }
   ],
   "source": [
    "%matplotlib inline\n",
    "import numpy as np\n",
    "import matplotlib.pyplot as plt\n",
    "\n",
    "# compute final concentration for 11 different L, from 0.4-1.2, equal spaced\n",
    "Lvalues = []\n",
    "# finalconcentration stores the concentration in steady state,albebo_p stores the albedo_p in steady state, and Te stores emission temperature\n",
    "finalconcentration = []\n",
    "albedo_p = []\n",
    "Te = []\n",
    "for i in range(0,11):\n",
    "    Lvalues.append(0.4+ 0.08 * i)\n",
    "    theSolver = IntegCoupling('coupling.yaml',Lvalues[i])\n",
    "    timeVals, yVals, errorList = theSolver.timeloop5fixed()\n",
    "    finalconcentration.append(yVals[-1])\n",
    "    albedo_p.append((1 - finalconcentration[i]) * theSolver.uservars.albedo_ground + finalconcentration[i] * theSolver.uservars.albedo_grey)\n",
    "    Te.append((theSolver.uservars.S0 * theSolver.uservars.L * (1 - albedo_p[i])/4.0/(5.67e-8))**0.25)\n",
    "thefig, theAx = plt.subplots(1, 1)\n",
    "theLines = theAx.plot(Lvalues, Te)\n",
    "theAx.set_title('L vs TE')\n",
    "theAx.set_xlabel('L values')\n",
    "theAx.set_ylabel('emission temperature TE')\n"
   ]
  },
  {
   "cell_type": "markdown",
   "metadata": {},
   "source": [
    "From this plot above, we can see that when L increases, Te tends to increase. In the middle of the curve, the speed of increasing decreases. This is because the steady state of daisy is not zero for those L about from 0.5 - 1.1. Because daisy reflects more light, it slows down the increasing speed."
   ]
  },
  {
   "cell_type": "markdown",
   "metadata": {},
   "source": [
    "After reading the the next section on the local temperature,"
   ]
  },
  {
   "cell_type": "markdown",
   "metadata": {},
   "source": [
    "1.If we assume these conditions hold:\n",
    "$$ \\alpha_p = x\\alpha_g + (1-x)\\alpha_y $$\n",
    "$$ T^4_e = \\frac{LS_0}{4\\sigma} (1 - \\alpha_p) $$\n",
    "$$ temp_y = [\\eta(\\alpha_p - \\alpha_y) + T^4_e]^{0.25} $$\n",
    "and there is only grey daisy,\n",
    "compare $T_e$ with Temp_y(=$temp_y$)"
   ]
  },
  {
   "cell_type": "code",
   "execution_count": 7,
   "metadata": {
    "collapsed": true
   },
   "outputs": [],
   "source": [
    "import numlabs.lab5.lab5_funs\n",
    "from numlabs.lab5.lab5_funs import Integrator\n",
    "from importlib import reload\n",
    "reload(numlabs.lab5.lab5_funs)\n",
    "from collections import namedtuple\n",
    "import numpy as np\n",
    "import matplotlib.pyplot as plt\n",
    "\n",
    "class IntegCoupling(Integrator):\n",
    "    \"\"\"rewrite the init and derivs5 methods to\n",
    "       work with a single (grey) daisy\n",
    "    \"\"\"\n",
    "\n",
    "    def set_yinit(self):\n",
    "        #\n",
    "        # read in 'albedo_grey chi S0 L  R albedo_ground'\n",
    "        #\n",
    "        uservars = namedtuple('uservars', self.config['uservars'].keys())\n",
    "        self.uservars = uservars(**self.config['uservars'])\n",
    "        #\n",
    "        # read in 'greyconc'\n",
    "        #\n",
    "        initvars = namedtuple('initvars', self.config['initvars'].keys())\n",
    "        self.initvars = initvars(**self.config['initvars'])\n",
    "        self.yinit = np.array([self.initvars.greyconc])\n",
    "        self.nvars = len(self.yinit)\n",
    "        return None\n",
    "\n",
    "    def __init__(self, coeffFileName):\n",
    "        super().__init__(coeffFileName)\n",
    "        self.set_yinit()\n",
    "\n",
    "    def derivs5(self, y, t):\n",
    "        \"\"\"\n",
    "           Make the growth rate depend on the ground temperature\n",
    "           using the quadratic function of temperature\n",
    "\n",
    "           y[0]=fraction grey daisies\n",
    "           t = time\n",
    "           returns f[0] = dy/dt\n",
    "        \"\"\"\n",
    "        sigma = 5.67e-8  # Stefan Boltzman constant W/m^2/K^4\n",
    "        user = self.uservars\n",
    "        x = 1.0 - y[0]\n",
    "        albedo_p = x * user.albedo_ground + y[0] * user.albedo_grey\n",
    "        Te_4 = user.S0 / 4.0 * user.L * (1.0 - albedo_p) / sigma\n",
    "        self.Te = (Te_4)**0.25\n",
    "        eta = user.R * user.S0 / (4.0 * sigma)\n",
    "        temp_y = (eta * (albedo_p - user.albedo_grey) + Te_4)**0.25\n",
    "        self.temp_y = temp_y\n",
    "        if(temp_y >= 277.5 and temp_y <= 312.5):\n",
    "            beta_y = 1.0 - 0.003265 * (295.0 - temp_y)**2.0\n",
    "        else:\n",
    "            beta_y = 0.0\n",
    "\n",
    "        # create a 1 x 1 element vector to hold the derivative\n",
    "        f = np.empty([self.nvars], np.float64)\n",
    "        f[0] = y[0] * (beta_y * x - user.chi)\n",
    "        return f\n"
   ]
  },
  {
   "cell_type": "code",
   "execution_count": 11,
   "metadata": {
    "collapsed": false
   },
   "outputs": [
    {
     "data": {
      "image/png": "[encoded data removed]",
      "text/plain": [
       "<matplotlib.figure.Figure at 0x5b5ab38>"
      ]
     },
     "metadata": {},
     "output_type": "display_data"
    }
   ],
   "source": [
    "%matplotlib inline\n",
    "import matplotlib.pyplot as plt\n",
    "theSolver = IntegCoupling('coupling.yaml')\n",
    "timeVals, yVals, errorList, Te, Temp_y = theSolver.timeloop5fixed()\n",
    "plt.close('all')\n",
    "thefig, theAx = plt.subplots(1, 1)\n",
    "line1, = theAx.plot(timeVals[:-1], Te)\n",
    "line2, = theAx.plot(timeVals[:-1], Temp_y)\n",
    "line1.set(linestyle='--', color='r', label='Te')\n",
    "line2.set(linestyle='--', color='k', label='Temp_y')\n",
    "theAx.set_title('Te and Temp_y')\n",
    "theAx.set_xlabel('time')\n",
    "theAx.set_ylabel('Temperature')\n",
    "out=theAx.legend(loc='center right')\n"
   ]
  },
  {
   "cell_type": "markdown",
   "metadata": {},
   "source": [
    "From this plot above, we can find that emission temperature is higher than daisy temperature. We can explain as following:\n",
    "The albedo of ground is less than that of daisy. Ground reflects less light and is  warmer than daisy. The emission temperature will occur when there is perfect conduction between ground and daisy. The outcome of the conduction is decreasing ground's temperature and increasing daisy's temperature and the final balance is emission temperature. So emission temperature is higher than daisy's temperature. "
   ]
  },
  {
   "cell_type": "markdown",
   "metadata": {},
   "source": [
    "We can also find that with time goes on, the emission temperature and daisy temperature increase. This is because in this model, the fractional coverage of daisy is decreasing with time going on and therefore $ x $ is increasing.\n",
    "$$ \\alpha_p = x\\alpha_g + (1-x)\\alpha_y $$\n",
    "$$ T^4_e = \\frac{LS_0}{4\\sigma} (1 - \\alpha_p) $$\n",
    "$$ temp_y = [\\eta(\\alpha_p - \\alpha_y) + T_e]^{0.25} $$\n",
    "$$  = (\\frac{S_0}{4\\sigma})^{0.25}[(\\alpha_y - \\alpha_g)(L - R)x + (1-\\alpha_y)L]^{0.25} $$\n",
    "According to these equations, when $x$ is increasing, $\\alpha_p$ is decreasing because $\\alpha_g<\\alpha_y$. So $T_e$ will increase. $temp_y$ will also increase because $\\alpha_y>\\alpha_g$ and $L - R >0$."
   ]
  },
  {
   "cell_type": "markdown",
   "metadata": {},
   "source": [
    "2.When the makeup of the global daisy changes, the weighted average albedo of daisy will change because different kinds of daisy have different albedoes.. This is equivalent to the change of $\\alpha_y$ in the previous question. So the emission temperature will change. Under certain conduction conditions, the local temperature will also change because it's a combination of emission temperature and local temperautre without conduction."
   ]
  },
  {
   "cell_type": "code",
   "execution_count": null,
   "metadata": {
    "collapsed": true
   },
   "outputs": [],
   "source": []
  }
 ],
 "metadata": {
  "kernelspec": {
   "display_name": "Python 3",
   "language": "python",
   "name": "python3"
  },
  "language_info": {
   "codemirror_mode": {
    "name": "ipython",
    "version": 3
   },
   "file_extension": ".py",
   "mimetype": "text/x-python",
   "name": "python",
   "nbconvert_exporter": "python",
   "pygments_lexer": "ipython3",
   "version": "3.4.3"
  }
 },
 "nbformat": 4,
 "nbformat_minor": 0
}
