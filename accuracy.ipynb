{
 "cells": [
  {
   "cell_type": "raw",
   "metadata": {},
   "source": [
    "Problem Accuracy"
   ]
  },
  {
   "cell_type": "code",
   "execution_count": null,
   "metadata": {
    "collapsed": true
   },
   "outputs": [],
   "source": [
    "import matplotlib.pyplot as plt\n",
    "from numlabs.lab2.lab2_functions import euler,leapfrog,runge,midpoint\n",
    "import numpy as np\n",
    "\n",
    "theFuncs={'euler':euler,'leapfrog':leapfrog,'runge':runge,'midpoint':midpoint}\n",
    "\n",
    "if __name__==\"__main__\":\n",
    "    Ta= 20\n",
    "    To= 30\n",
    "    tend = 10.0\n",
    "    theLambda= 0.8\n",
    "    npts=30\n",
    "    funChoice_1='euler'\n",
    "    funChoice_2='leapfrog'\n",
    "    funChoice_3='runge'\n",
    "    #\n",
    "    #find the method in the theFuncs dictionary and call it\n",
    "    #\n",
    "    approxTime_1,approxTemp_1=theFuncs[funChoice_1](npts,tend,To,Ta,theLambda)\n",
    "    approxTime_2,approxTemp_2=theFuncs[funChoice_2](npts,tend,To,Ta,theLambda)\n",
    "    approxTime_3,approxTemp_3=theFuncs[funChoice_3](npts,tend,To,Ta,theLambda)\n",
    "    plt.close('all')\n",
    "    fig1,ax1=plt.subplots(1,1)\n",
    "    ax1.plot(approxTime_1,approxTemp_1,label=funChoice_1)\n",
    "    ax1.plot(approxTime_2,approxTemp_2,label=funChoice_2)\n",
    "    ax1.plot(approxTime_3,approxTemp_3,label=funChoice_3)\n",
    "    exactTime=np.empty([npts,],np.float)\n",
    "    exactTemp=np.empty_like(exactTime)\n",
    "    for i in np.arange(0,npts):\n",
    "        exactTime[i] = tend*i/npts\n",
    "        exactTemp[i] = Ta + (To-Ta)*np.exp(theLambda*exactTime[i])\n",
    "    ax1.plot(exactTime,exactTemp,'r+',label='exact')\n",
    "    outdict=dict(deltat=tend/npts,func=funChoice_2)\n",
    "    title=\"exact and approx with deltat={deltat:5.2g}\".format_map(outdict)\n",
    "    ax1.set(title=title)\n",
    "    ax1.legend(loc='best')\n",
    "    plt.show()\n"
   ]
  },
  {
   "cell_type": "code",
   "execution_count": null,
   "metadata": {
    "collapsed": true
   },
   "outputs": [],
   "source": []
  }
 ],
 "metadata": {
  "kernelspec": {
   "display_name": "Python 3",
   "language": "python",
   "name": "python3"
  },
  "language_info": {
   "codemirror_mode": {
    "name": "ipython",
    "version": 3
   },
   "file_extension": ".py",
   "mimetype": "text/x-python",
   "name": "python",
   "nbconvert_exporter": "python",
   "pygments_lexer": "ipython3",
   "version": "3.4.3"
  }
 },
 "nbformat": 4,
 "nbformat_minor": 0
}
